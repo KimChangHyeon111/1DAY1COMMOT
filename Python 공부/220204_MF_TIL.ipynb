{
  "nbformat": 4,
  "nbformat_minor": 0,
  "metadata": {
    "colab": {
      "name": "TIL_220204.ipynb",
      "provenance": []
    },
    "kernelspec": {
      "name": "python3",
      "display_name": "Python 3"
    },
    "language_info": {
      "name": "python"
    }
  },
  "cells": [
    {
      "cell_type": "markdown",
      "source": [
        "# FM\n",
        "### FM에 대한 글들. 정리가 잘 되어있어 가져와 봄\n",
        "- FM이란 : https://techblog-history-younghunjo1.tistory.com/206\n",
        "- Neural CF : https://techblog-history-younghunjo1.tistory.com/204\n",
        "- Wide & Deep : https://techblog-history-younghunjo1.tistory.com/207\n",
        "- DeepFM : https://techblog-history-younghunjo1.tistory.com/208?category=924148"
      ],
      "metadata": {
        "id": "PPK4paLLmu8q"
      }
    },
    {
      "cell_type": "markdown",
      "source": [
        "# DeepFM\n",
        "- 구현 코드 : https://greeksharifa.github.io/machine_learning/2020/04/07/DeepFM/"
      ],
      "metadata": {
        "id": "HfRugFvsoLZI"
      }
    },
    {
      "cell_type": "code",
      "source": [
        ""
      ],
      "metadata": {
        "id": "-_mbumsyq95H"
      },
      "execution_count": null,
      "outputs": []
    }
  ]
}