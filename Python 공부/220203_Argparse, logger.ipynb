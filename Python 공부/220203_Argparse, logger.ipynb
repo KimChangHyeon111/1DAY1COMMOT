{
  "nbformat": 4,
  "nbformat_minor": 0,
  "metadata": {
    "colab": {
      "name": "TIL_220203.ipynb",
      "provenance": [],
      "collapsed_sections": []
    },
    "kernelspec": {
      "name": "python3",
      "display_name": "Python 3"
    },
    "language_info": {
      "name": "python"
    }
  },
  "cells": [
    {
      "cell_type": "markdown",
      "source": [
        "# Logger Setting"
      ],
      "metadata": {
        "id": "TBvgAt2aGP95"
      }
    },
    {
      "cell_type": "code",
      "execution_count": 1,
      "metadata": {
        "id": "iw1E-8QVCvdl"
      },
      "outputs": [],
      "source": [
        "import logging"
      ]
    },
    {
      "cell_type": "code",
      "source": [
        "# 1.logger 생성\n",
        "logger = logging.getLogger('preprocessing') #새로운 Logger 생성 / 이 경우는 preprocessing에 해당하는 logger이므로 이름을 preprocessing으로 지정"
      ],
      "metadata": {
        "id": "QvKEjqAmC27Q"
      },
      "execution_count": 2,
      "outputs": []
    },
    {
      "cell_type": "code",
      "source": [
        "# 2. Level 설정\n",
        "logger.setLevel(logging.DEBUG) #Logger의 level을 지정한다. 5단계중 1단계인 DEBUG로 지정해서 최대한 자세한 정보를 반환할 수 있도록 한다."
      ],
      "metadata": {
        "id": "Pr8aWmjDHXr5"
      },
      "execution_count": 3,
      "outputs": []
    },
    {
      "cell_type": "code",
      "source": [
        "# 3. Handler, Formatter 설정\n",
        "formatter = logging.Formatter(\"%(asctime)s - %(name)s - %(levelname)s - (줄 번호: %(lineno)d) %(message)s\") # Format을 지정한다. 시간 / logger 이름 / Level / 줄 번호 / 메세지 순으로 출력되도록 한다. \n",
        "stream_handler = logging.StreamHandler() #콘솔에 메세지를 전달하는 handler 선언 (아직 뭐가 다른지는 잘 모르겠음)\n",
        "stream_handler.setFormatter(formatter) # handler에 Formatter전달"
      ],
      "metadata": {
        "id": "24B32U38GRdu"
      },
      "execution_count": 4,
      "outputs": []
    },
    {
      "cell_type": "code",
      "source": [
        "# 4. logger에 handler 전달\n",
        "logger.addHandler(stream_handler) # logger에 이제껏 생성한 handler 전달"
      ],
      "metadata": {
        "id": "-RxIE-IlKUon"
      },
      "execution_count": 5,
      "outputs": []
    },
    {
      "cell_type": "code",
      "source": [
        "logger.debug('test')"
      ],
      "metadata": {
        "colab": {
          "base_uri": "https://localhost:8080/"
        },
        "id": "Y2Kh4Y6LO9IF",
        "outputId": "a3738d91-ce68-4675-8ad2-7c31ef3db0ef"
      },
      "execution_count": 6,
      "outputs": [
        {
          "output_type": "stream",
          "name": "stderr",
          "text": [
            "2022-02-03 08:10:21,304 - preprocessing - DEBUG - (줄 번호: 1) test\n"
          ]
        }
      ]
    },
    {
      "cell_type": "code",
      "source": [
        "logger.info(\"test\")\n",
        "\n",
        "logger.warning(\"test\")"
      ],
      "metadata": {
        "colab": {
          "base_uri": "https://localhost:8080/"
        },
        "id": "v5ztF8svRgUB",
        "outputId": "48e893ac-c3ef-45c1-eec9-4cff1d971170"
      },
      "execution_count": 7,
      "outputs": [
        {
          "output_type": "stream",
          "name": "stderr",
          "text": [
            "2022-02-03 08:10:21,325 - preprocessing - INFO - (줄 번호: 1) test\n",
            "2022-02-03 08:10:21,330 - preprocessing - WARNING - (줄 번호: 3) test\n"
          ]
        }
      ]
    },
    {
      "cell_type": "code",
      "source": [
        "logger.warning(\"test\")\n",
        "logger.warning(\"test\")\n",
        "logger.warning(\"test\")"
      ],
      "metadata": {
        "colab": {
          "base_uri": "https://localhost:8080/"
        },
        "id": "x6tfFSR9RiDK",
        "outputId": "ae95efe1-21fd-4b93-8fb9-23c939d38156"
      },
      "execution_count": 8,
      "outputs": [
        {
          "output_type": "stream",
          "name": "stderr",
          "text": [
            "2022-02-03 08:10:21,344 - preprocessing - WARNING - (줄 번호: 1) test\n",
            "2022-02-03 08:10:21,347 - preprocessing - WARNING - (줄 번호: 2) test\n",
            "2022-02-03 08:10:21,350 - preprocessing - WARNING - (줄 번호: 3) test\n"
          ]
        }
      ]
    },
    {
      "cell_type": "code",
      "source": [
        "logger.setLevel(20)\n",
        "logger.info(\"sth happened\")"
      ],
      "metadata": {
        "colab": {
          "base_uri": "https://localhost:8080/"
        },
        "id": "5sAvb05AShvZ",
        "outputId": "b0f35167-fbe5-4d9f-ab8e-da08974ba26e"
      },
      "execution_count": 9,
      "outputs": [
        {
          "output_type": "stream",
          "name": "stderr",
          "text": [
            "2022-02-03 08:10:21,360 - preprocessing - INFO - (줄 번호: 2) sth happened\n"
          ]
        }
      ]
    },
    {
      "cell_type": "code",
      "source": [
        "# 5. 함수화\n",
        "def make_logger(name=None):\n",
        "    #1 logger 생성.\n",
        "    logger = logging.getLogger(name)\n",
        "    \n",
        "    #2 기존 logger가 있다면 작업 종료\n",
        "    if len(logger.handlers) > 0:\n",
        "      return logger # Logger already exists\n",
        "\n",
        "    #3 logger의 level설정 / handler별로 Level을 설정하기 위해 가장 낮은 수준인 DEBUG로 설정\n",
        "    logger.setLevel(logging.DEBUG)\n",
        "    \n",
        "    #4 formatter 지정\n",
        "    formatter = logging.Formatter(\"%(asctime)s - %(name)s - %(levelname)s - (line no: %(lineno)d) %(message)s\")\n",
        "    \n",
        "    #5 handler instance 생성\n",
        "    console = logging.StreamHandler() # 콘솔에 출력\n",
        "    file_handler = logging.FileHandler(filename=\"test.log\") #외부 파일에 기록\n",
        "    \n",
        "    #6 handler 별로 다른 level 설정\n",
        "    console.setLevel(logging.INFO) # 콘솔은 INFO LEVEL까지\n",
        "    file_handler.setLevel(logging.DEBUG) # 외부 파일은 전부다\n",
        "\n",
        "    #7 handler 출력 format 지정\n",
        "    console.setFormatter(formatter)\n",
        "    file_handler.setFormatter(formatter)\n",
        "\n",
        "    #8 logger에 handler 추가\n",
        "    logger.addHandler(console)\n",
        "    logger.addHandler(file_handler)\n",
        "\n",
        "    return logger\n"
      ],
      "metadata": {
        "id": "hGclmuUNaJqF"
      },
      "execution_count": 2,
      "outputs": []
    },
    {
      "cell_type": "code",
      "source": [
        "logger = make_logger('preprocessing')"
      ],
      "metadata": {
        "id": "zxnA8eTnm9SQ"
      },
      "execution_count": 3,
      "outputs": []
    },
    {
      "cell_type": "code",
      "source": [
        "logger.warning(\"test\")\n",
        "logger.error(\"test\")\n",
        "logger.debug(\"DEBUG\")\n",
        "logger.error(\"test\")"
      ],
      "metadata": {
        "colab": {
          "base_uri": "https://localhost:8080/"
        },
        "id": "kdrFBNMQm_Fn",
        "outputId": "52626585-14a0-4352-f111-88efe48c86b1"
      },
      "execution_count": 4,
      "outputs": [
        {
          "output_type": "stream",
          "name": "stderr",
          "text": [
            "2022-02-03 08:15:30,280 - preprocessing - WARNING - (line no: 1) test\n",
            "2022-02-03 08:15:30,285 - preprocessing - ERROR - (line no: 2) test\n",
            "2022-02-03 08:15:30,287 - preprocessing - ERROR - (line no: 4) test\n"
          ]
        }
      ]
    },
    {
      "cell_type": "markdown",
      "source": [
        "## 참고\n",
        "### https://greeksharifa.github.io/%ED%8C%8C%EC%9D%B4%EC%8D%AC/2019/12/13/logging/\n",
        "### https://hwangheek.github.io/2019/python-logging/"
      ],
      "metadata": {
        "id": "TghPgvkFSoSn"
      }
    },
    {
      "cell_type": "markdown",
      "source": [
        "# Argument Setting\n",
        "\n",
        "### argparse 라이브러리 사용에 대한 공부\n",
        "- argparse는 기본적으로 터미널 실행을 원칙으로 함. 대화형 Framework인 Jupyter notebook에서는 제대로 실행되지 않을 수 있음\n",
        "- 이러한 대화형 framework에서는 코드상에서 명시적으로 집어넣어야지, argparse처럼 --epochs 50 이런 식으로 인자에 값을 바로 줄 수도 없음\n",
        "- 그래도 쓰고 싶다면 args = parser.parse_args()를 args = parser.parse_args(args=[])로 바꾸고 사용할 수는 있다…하지만 위의 이유로 인해 별 의미는 없다고 함\n"
      ],
      "metadata": {
        "id": "mMOql7afXIjV"
      }
    },
    {
      "cell_type": "code",
      "source": [
        "import os\n",
        "import argparse"
      ],
      "metadata": {
        "id": "-AaU-BH7XJ2v"
      },
      "execution_count": 23,
      "outputs": []
    },
    {
      "cell_type": "code",
      "source": [
        "# 1. parser 객체 생성\n",
        "\n",
        "# %%writefile argparseTest.py\n",
        "def parse_args():\n",
        "  parser = argparse.ArgumentParser(description='Run preprocessing')\n",
        "\n",
        "  # 2. 원하는 인자 추가\n",
        "  parser.add_argument('--root', nargs = '?', default = '/work', help = 'path of root dir')\n",
        "  parser.add_argument('--dataset', nargs = '?', default='dataset.pkl', help = 'choose data')\n",
        "  parser.add_argument('--yyyy', nargs = '?', default = '2022', help = 'year division')\n",
        "  parser.add_argument('--mm', nargs = '?', default = '02', help = 'month division')\n",
        "  parser.add_argument('--dd', nargs = '?', default = '03', help = 'day division')\n",
        "  parser.add_argument('--algo', nargs = '?', default = 'deepfm', help = 'model name')\n",
        "  parser.add_argument('--algo_dtl', nargs = '?', default = 'v3', help = 'algo detail')\n",
        "  args = parser.parse_args()\n",
        "\n",
        "  return args"
      ],
      "metadata": {
        "id": "n_03gkhtnWQl"
      },
      "execution_count": 24,
      "outputs": []
    },
    {
      "cell_type": "code",
      "source": [
        ""
      ],
      "metadata": {
        "id": "K1fYYtyVwdp0"
      },
      "execution_count": 24,
      "outputs": []
    },
    {
      "cell_type": "code",
      "source": [
        "parse_args()"
      ],
      "metadata": {
        "id": "KoC-iyAoynLW"
      },
      "execution_count": null,
      "outputs": []
    },
    {
      "cell_type": "markdown",
      "source": [
        "### https://greeksharifa.github.io/references/2019/02/12/argparse-usage/"
      ],
      "metadata": {
        "id": "zDvtmQx_wxxW"
      }
    },
    {
      "cell_type": "code",
      "source": [
        ""
      ],
      "metadata": {
        "id": "39TZMJlczYha"
      },
      "execution_count": null,
      "outputs": []
    }
  ]
}